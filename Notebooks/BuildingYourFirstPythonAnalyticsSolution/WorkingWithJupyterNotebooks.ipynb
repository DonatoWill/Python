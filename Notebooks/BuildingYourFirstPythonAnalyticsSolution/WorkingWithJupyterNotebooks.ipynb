{
 "cells": [
  {
   "cell_type": "code",
   "execution_count": 1,
   "metadata": {},
   "outputs": [
    {
     "name": "stdout",
     "output_type": "stream",
     "text": [
      "Requirement already satisfied: ipywidgets in /home/daguiar/anaconda3/lib/python3.7/site-packages (7.5.1)\n",
      "Requirement already satisfied: traitlets>=4.3.1 in /home/daguiar/anaconda3/lib/python3.7/site-packages (from ipywidgets) (4.3.3)\n",
      "Requirement already satisfied: widgetsnbextension~=3.5.0 in /home/daguiar/anaconda3/lib/python3.7/site-packages (from ipywidgets) (3.5.1)\n",
      "Requirement already satisfied: nbformat>=4.2.0 in /home/daguiar/anaconda3/lib/python3.7/site-packages (from ipywidgets) (4.4.0)\n",
      "Requirement already satisfied: ipython>=4.0.0; python_version >= \"3.3\" in /home/daguiar/anaconda3/lib/python3.7/site-packages (from ipywidgets) (7.9.0)\n",
      "Requirement already satisfied: ipykernel>=4.5.1 in /home/daguiar/anaconda3/lib/python3.7/site-packages (from ipywidgets) (5.1.3)\n",
      "Requirement already satisfied: decorator in /home/daguiar/anaconda3/lib/python3.7/site-packages (from traitlets>=4.3.1->ipywidgets) (4.4.1)\n",
      "Requirement already satisfied: six in /home/daguiar/anaconda3/lib/python3.7/site-packages (from traitlets>=4.3.1->ipywidgets) (1.13.0)\n",
      "Requirement already satisfied: ipython-genutils in /home/daguiar/anaconda3/lib/python3.7/site-packages (from traitlets>=4.3.1->ipywidgets) (0.2.0)\n",
      "Requirement already satisfied: notebook>=4.4.1 in /home/daguiar/anaconda3/lib/python3.7/site-packages (from widgetsnbextension~=3.5.0->ipywidgets) (6.0.2)\n",
      "Requirement already satisfied: jsonschema!=2.5.0,>=2.4 in /home/daguiar/anaconda3/lib/python3.7/site-packages (from nbformat>=4.2.0->ipywidgets) (3.2.0)\n",
      "Requirement already satisfied: jupyter-core in /home/daguiar/anaconda3/lib/python3.7/site-packages (from nbformat>=4.2.0->ipywidgets) (4.6.1)\n",
      "Requirement already satisfied: jedi>=0.10 in /home/daguiar/anaconda3/lib/python3.7/site-packages (from ipython>=4.0.0; python_version >= \"3.3\"->ipywidgets) (0.15.1)\n",
      "Requirement already satisfied: pexpect; sys_platform != \"win32\" in /home/daguiar/anaconda3/lib/python3.7/site-packages (from ipython>=4.0.0; python_version >= \"3.3\"->ipywidgets) (4.7.0)\n",
      "Requirement already satisfied: setuptools>=18.5 in /home/daguiar/anaconda3/lib/python3.7/site-packages (from ipython>=4.0.0; python_version >= \"3.3\"->ipywidgets) (42.0.2.post20191203)\n",
      "Requirement already satisfied: backcall in /home/daguiar/anaconda3/lib/python3.7/site-packages (from ipython>=4.0.0; python_version >= \"3.3\"->ipywidgets) (0.1.0)\n",
      "Requirement already satisfied: pygments in /home/daguiar/anaconda3/lib/python3.7/site-packages (from ipython>=4.0.0; python_version >= \"3.3\"->ipywidgets) (2.5.2)\n",
      "Requirement already satisfied: pickleshare in /home/daguiar/anaconda3/lib/python3.7/site-packages (from ipython>=4.0.0; python_version >= \"3.3\"->ipywidgets) (0.7.5)\n",
      "Requirement already satisfied: prompt-toolkit<2.1.0,>=2.0.0 in /home/daguiar/anaconda3/lib/python3.7/site-packages (from ipython>=4.0.0; python_version >= \"3.3\"->ipywidgets) (2.0.10)\n",
      "Requirement already satisfied: tornado>=4.2 in /home/daguiar/anaconda3/lib/python3.7/site-packages (from ipykernel>=4.5.1->ipywidgets) (6.0.3)\n",
      "Requirement already satisfied: jupyter-client in /home/daguiar/anaconda3/lib/python3.7/site-packages (from ipykernel>=4.5.1->ipywidgets) (5.3.4)\n",
      "Requirement already satisfied: jinja2 in /home/daguiar/anaconda3/lib/python3.7/site-packages (from notebook>=4.4.1->widgetsnbextension~=3.5.0->ipywidgets) (2.10.3)\n",
      "Requirement already satisfied: pyzmq>=17 in /home/daguiar/anaconda3/lib/python3.7/site-packages (from notebook>=4.4.1->widgetsnbextension~=3.5.0->ipywidgets) (18.1.0)\n",
      "Requirement already satisfied: Send2Trash in /home/daguiar/anaconda3/lib/python3.7/site-packages (from notebook>=4.4.1->widgetsnbextension~=3.5.0->ipywidgets) (1.5.0)\n",
      "Requirement already satisfied: prometheus-client in /home/daguiar/anaconda3/lib/python3.7/site-packages (from notebook>=4.4.1->widgetsnbextension~=3.5.0->ipywidgets) (0.7.1)\n",
      "Requirement already satisfied: terminado>=0.8.1 in /home/daguiar/anaconda3/lib/python3.7/site-packages (from notebook>=4.4.1->widgetsnbextension~=3.5.0->ipywidgets) (0.8.3)\n",
      "Requirement already satisfied: nbconvert in /home/daguiar/anaconda3/lib/python3.7/site-packages (from notebook>=4.4.1->widgetsnbextension~=3.5.0->ipywidgets) (5.6.1)\n",
      "Requirement already satisfied: attrs>=17.4.0 in /home/daguiar/anaconda3/lib/python3.7/site-packages (from jsonschema!=2.5.0,>=2.4->nbformat>=4.2.0->ipywidgets) (19.3.0)\n",
      "Requirement already satisfied: pyrsistent>=0.14.0 in /home/daguiar/anaconda3/lib/python3.7/site-packages (from jsonschema!=2.5.0,>=2.4->nbformat>=4.2.0->ipywidgets) (0.15.6)\n",
      "Requirement already satisfied: importlib-metadata; python_version < \"3.8\" in /home/daguiar/anaconda3/lib/python3.7/site-packages (from jsonschema!=2.5.0,>=2.4->nbformat>=4.2.0->ipywidgets) (1.1.0)\n",
      "Requirement already satisfied: parso>=0.5.0 in /home/daguiar/anaconda3/lib/python3.7/site-packages (from jedi>=0.10->ipython>=4.0.0; python_version >= \"3.3\"->ipywidgets) (0.5.1)\n",
      "Requirement already satisfied: ptyprocess>=0.5 in /home/daguiar/anaconda3/lib/python3.7/site-packages (from pexpect; sys_platform != \"win32\"->ipython>=4.0.0; python_version >= \"3.3\"->ipywidgets) (0.6.0)\n",
      "Requirement already satisfied: wcwidth in /home/daguiar/anaconda3/lib/python3.7/site-packages (from prompt-toolkit<2.1.0,>=2.0.0->ipython>=4.0.0; python_version >= \"3.3\"->ipywidgets) (0.1.7)\n",
      "Requirement already satisfied: python-dateutil>=2.1 in /home/daguiar/anaconda3/lib/python3.7/site-packages (from jupyter-client->ipykernel>=4.5.1->ipywidgets) (2.8.1)\n",
      "Requirement already satisfied: MarkupSafe>=0.23 in /home/daguiar/anaconda3/lib/python3.7/site-packages (from jinja2->notebook>=4.4.1->widgetsnbextension~=3.5.0->ipywidgets) (1.1.1)\n",
      "Requirement already satisfied: defusedxml in /home/daguiar/anaconda3/lib/python3.7/site-packages (from nbconvert->notebook>=4.4.1->widgetsnbextension~=3.5.0->ipywidgets) (0.6.0)\n",
      "Requirement already satisfied: mistune<2,>=0.8.1 in /home/daguiar/anaconda3/lib/python3.7/site-packages (from nbconvert->notebook>=4.4.1->widgetsnbextension~=3.5.0->ipywidgets) (0.8.4)\n",
      "Requirement already satisfied: entrypoints>=0.2.2 in /home/daguiar/anaconda3/lib/python3.7/site-packages (from nbconvert->notebook>=4.4.1->widgetsnbextension~=3.5.0->ipywidgets) (0.3)\n",
      "Requirement already satisfied: bleach in /home/daguiar/anaconda3/lib/python3.7/site-packages (from nbconvert->notebook>=4.4.1->widgetsnbextension~=3.5.0->ipywidgets) (3.1.0)\n",
      "Requirement already satisfied: pandocfilters>=1.4.1 in /home/daguiar/anaconda3/lib/python3.7/site-packages (from nbconvert->notebook>=4.4.1->widgetsnbextension~=3.5.0->ipywidgets) (1.4.2)\n",
      "Requirement already satisfied: testpath in /home/daguiar/anaconda3/lib/python3.7/site-packages (from nbconvert->notebook>=4.4.1->widgetsnbextension~=3.5.0->ipywidgets) (0.4.4)\n",
      "Requirement already satisfied: zipp>=0.5 in /home/daguiar/anaconda3/lib/python3.7/site-packages (from importlib-metadata; python_version < \"3.8\"->jsonschema!=2.5.0,>=2.4->nbformat>=4.2.0->ipywidgets) (0.6.0)\n",
      "Requirement already satisfied: webencodings in /home/daguiar/anaconda3/lib/python3.7/site-packages (from bleach->nbconvert->notebook>=4.4.1->widgetsnbextension~=3.5.0->ipywidgets) (0.5.1)\n",
      "Requirement already satisfied: more-itertools in /home/daguiar/anaconda3/lib/python3.7/site-packages (from zipp>=0.5->importlib-metadata; python_version < \"3.8\"->jsonschema!=2.5.0,>=2.4->nbformat>=4.2.0->ipywidgets) (7.2.0)\n"
     ]
    }
   ],
   "source": [
    "!pip install ipywidgets"
   ]
  },
  {
   "cell_type": "code",
   "execution_count": 2,
   "metadata": {},
   "outputs": [],
   "source": [
    "import numpy as np\n",
    "import pandas as pd\n",
    "import matplotlib.pyplot as plt\n",
    "import seaborn as sns\n",
    "import ipywidgets as widgets\n",
    "from ipywidgets import interact, interact_manual"
   ]
  },
  {
   "cell_type": "code",
   "execution_count": 11,
   "metadata": {},
   "outputs": [],
   "source": [
    "ubs = pd.read_csv('ubs.csv')"
   ]
  },
  {
   "cell_type": "code",
   "execution_count": 12,
   "metadata": {},
   "outputs": [
    {
     "data": {
      "text/html": [
       "<div>\n",
       "<style scoped>\n",
       "    .dataframe tbody tr th:only-of-type {\n",
       "        vertical-align: middle;\n",
       "    }\n",
       "\n",
       "    .dataframe tbody tr th {\n",
       "        vertical-align: top;\n",
       "    }\n",
       "\n",
       "    .dataframe thead th {\n",
       "        text-align: right;\n",
       "    }\n",
       "</style>\n",
       "<table border=\"1\" class=\"dataframe\">\n",
       "  <thead>\n",
       "    <tr style=\"text-align: right;\">\n",
       "      <th></th>\n",
       "      <th>vlr_latitude</th>\n",
       "      <th>vlr_longitude</th>\n",
       "      <th>cod_munic</th>\n",
       "      <th>cod_cnes</th>\n",
       "      <th>nom_estab</th>\n",
       "      <th>dsc_endereco</th>\n",
       "      <th>dsc_bairro</th>\n",
       "      <th>dsc_cidade</th>\n",
       "      <th>dsc_telefone</th>\n",
       "      <th>dsc_estrut_fisic_ambiencia</th>\n",
       "      <th>dsc_adap_defic_fisic_idosos</th>\n",
       "      <th>dsc_equipamentos</th>\n",
       "      <th>dsc_medicamentos</th>\n",
       "    </tr>\n",
       "  </thead>\n",
       "  <tbody>\n",
       "    <tr>\n",
       "      <th>0</th>\n",
       "      <td>-10.911237</td>\n",
       "      <td>-37.062078</td>\n",
       "      <td>280030</td>\n",
       "      <td>3492</td>\n",
       "      <td>US OSWALDO DE SOUZA</td>\n",
       "      <td>TV ADALTO BOTELHO</td>\n",
       "      <td>GETULIO VARGAS</td>\n",
       "      <td>Aracaju</td>\n",
       "      <td>7931791326</td>\n",
       "      <td>Desempenho acima da média</td>\n",
       "      <td>Desempenho muito acima da média</td>\n",
       "      <td>Desempenho mediano ou  um pouco abaixo da média</td>\n",
       "      <td>Desempenho acima da média</td>\n",
       "    </tr>\n",
       "    <tr>\n",
       "      <th>1</th>\n",
       "      <td>-9.485943</td>\n",
       "      <td>-35.857573</td>\n",
       "      <td>270770</td>\n",
       "      <td>6685315</td>\n",
       "      <td>USF ENFERMEIRO PEDRO JACINTO AREA 09</td>\n",
       "      <td>R 15 DE AGOSTO</td>\n",
       "      <td>CENTRO</td>\n",
       "      <td>Rio Largo</td>\n",
       "      <td>Não se aplica</td>\n",
       "      <td>Desempenho mediano ou  um pouco abaixo da média</td>\n",
       "      <td>Desempenho mediano ou  um pouco abaixo da média</td>\n",
       "      <td>Desempenho mediano ou  um pouco abaixo da média</td>\n",
       "      <td>Desempenho mediano ou  um pouco abaixo da média</td>\n",
       "    </tr>\n",
       "    <tr>\n",
       "      <th>2</th>\n",
       "      <td>-23.896000</td>\n",
       "      <td>-53.410000</td>\n",
       "      <td>411885</td>\n",
       "      <td>6811299</td>\n",
       "      <td>UNIDADE DE ATENCAO PRIMARIA SAUDE DA FAMILIA</td>\n",
       "      <td>RUA GUILHERME BRUXEL</td>\n",
       "      <td>CENTRO</td>\n",
       "      <td>Perobal</td>\n",
       "      <td>4436251462</td>\n",
       "      <td>Desempenho muito acima da média</td>\n",
       "      <td>Desempenho muito acima da média</td>\n",
       "      <td>Desempenho mediano ou  um pouco abaixo da média</td>\n",
       "      <td>Desempenho muito acima da média</td>\n",
       "    </tr>\n",
       "    <tr>\n",
       "      <th>3</th>\n",
       "      <td>-16.447874</td>\n",
       "      <td>-41.009860</td>\n",
       "      <td>313580</td>\n",
       "      <td>6335616</td>\n",
       "      <td>POSTO DE SAUDE DE BOM JESUS DA ALDEIA</td>\n",
       "      <td>RUA TEOFILO OTONI</td>\n",
       "      <td>ALDEIA</td>\n",
       "      <td>Jequitinhonha</td>\n",
       "      <td>3337411423</td>\n",
       "      <td>Desempenho mediano ou  um pouco abaixo da média</td>\n",
       "      <td>Desempenho acima da média</td>\n",
       "      <td>Desempenho mediano ou  um pouco abaixo da média</td>\n",
       "      <td>Desempenho mediano ou  um pouco abaixo da média</td>\n",
       "    </tr>\n",
       "    <tr>\n",
       "      <th>4</th>\n",
       "      <td>-6.573311</td>\n",
       "      <td>-35.107605</td>\n",
       "      <td>250930</td>\n",
       "      <td>6662226</td>\n",
       "      <td>POSTO ANCORA URUBA</td>\n",
       "      <td>RODOVIA PB N 065</td>\n",
       "      <td>SITIO</td>\n",
       "      <td>Mataraca</td>\n",
       "      <td>Não se aplica</td>\n",
       "      <td>Desempenho acima da média</td>\n",
       "      <td>Desempenho acima da média</td>\n",
       "      <td>Desempenho mediano ou  um pouco abaixo da média</td>\n",
       "      <td>Desempenho mediano ou  um pouco abaixo da média</td>\n",
       "    </tr>\n",
       "  </tbody>\n",
       "</table>\n",
       "</div>"
      ],
      "text/plain": [
       "   vlr_latitude  vlr_longitude  cod_munic  cod_cnes  \\\n",
       "0    -10.911237     -37.062078     280030      3492   \n",
       "1     -9.485943     -35.857573     270770   6685315   \n",
       "2    -23.896000     -53.410000     411885   6811299   \n",
       "3    -16.447874     -41.009860     313580   6335616   \n",
       "4     -6.573311     -35.107605     250930   6662226   \n",
       "\n",
       "                                      nom_estab          dsc_endereco  \\\n",
       "0                           US OSWALDO DE SOUZA     TV ADALTO BOTELHO   \n",
       "1          USF ENFERMEIRO PEDRO JACINTO AREA 09        R 15 DE AGOSTO   \n",
       "2  UNIDADE DE ATENCAO PRIMARIA SAUDE DA FAMILIA  RUA GUILHERME BRUXEL   \n",
       "3         POSTO DE SAUDE DE BOM JESUS DA ALDEIA     RUA TEOFILO OTONI   \n",
       "4                            POSTO ANCORA URUBA      RODOVIA PB N 065   \n",
       "\n",
       "       dsc_bairro     dsc_cidade   dsc_telefone  \\\n",
       "0  GETULIO VARGAS        Aracaju     7931791326   \n",
       "1          CENTRO      Rio Largo  Não se aplica   \n",
       "2          CENTRO        Perobal     4436251462   \n",
       "3          ALDEIA  Jequitinhonha     3337411423   \n",
       "4           SITIO       Mataraca  Não se aplica   \n",
       "\n",
       "                        dsc_estrut_fisic_ambiencia  \\\n",
       "0                        Desempenho acima da média   \n",
       "1  Desempenho mediano ou  um pouco abaixo da média   \n",
       "2                  Desempenho muito acima da média   \n",
       "3  Desempenho mediano ou  um pouco abaixo da média   \n",
       "4                        Desempenho acima da média   \n",
       "\n",
       "                       dsc_adap_defic_fisic_idosos  \\\n",
       "0                  Desempenho muito acima da média   \n",
       "1  Desempenho mediano ou  um pouco abaixo da média   \n",
       "2                  Desempenho muito acima da média   \n",
       "3                        Desempenho acima da média   \n",
       "4                        Desempenho acima da média   \n",
       "\n",
       "                                  dsc_equipamentos  \\\n",
       "0  Desempenho mediano ou  um pouco abaixo da média   \n",
       "1  Desempenho mediano ou  um pouco abaixo da média   \n",
       "2  Desempenho mediano ou  um pouco abaixo da média   \n",
       "3  Desempenho mediano ou  um pouco abaixo da média   \n",
       "4  Desempenho mediano ou  um pouco abaixo da média   \n",
       "\n",
       "                                  dsc_medicamentos  \n",
       "0                        Desempenho acima da média  \n",
       "1  Desempenho mediano ou  um pouco abaixo da média  \n",
       "2                  Desempenho muito acima da média  \n",
       "3  Desempenho mediano ou  um pouco abaixo da média  \n",
       "4  Desempenho mediano ou  um pouco abaixo da média  "
      ]
     },
     "execution_count": 12,
     "metadata": {},
     "output_type": "execute_result"
    }
   ],
   "source": [
    "ubs.head()"
   ]
  },
  {
   "cell_type": "code",
   "execution_count": 13,
   "metadata": {},
   "outputs": [
    {
     "data": {
      "application/vnd.jupyter.widget-view+json": {
       "model_id": "8cb30039bb384d4790721fb8de98dec9",
       "version_major": 2,
       "version_minor": 0
      },
      "text/plain": [
       "interactive(children=(Text(value='cod_munic', description='column'), IntSlider(value=300000, description='x', …"
      ]
     },
     "metadata": {},
     "output_type": "display_data"
    }
   ],
   "source": [
    "@interact\n",
    "def show_cod_munic_more_than(column = 'cod_munic', x=300000):\n",
    "    return ubs.loc[ubs[column] > x]"
   ]
  },
  {
   "cell_type": "code",
   "execution_count": 14,
   "metadata": {},
   "outputs": [
    {
     "data": {
      "text/plain": [
       "(37690, 13)"
      ]
     },
     "execution_count": 14,
     "metadata": {},
     "output_type": "execute_result"
    }
   ],
   "source": [
    "ubs.shape"
   ]
  },
  {
   "cell_type": "code",
   "execution_count": 15,
   "metadata": {},
   "outputs": [
    {
     "data": {
      "text/html": [
       "<div>\n",
       "<style scoped>\n",
       "    .dataframe tbody tr th:only-of-type {\n",
       "        vertical-align: middle;\n",
       "    }\n",
       "\n",
       "    .dataframe tbody tr th {\n",
       "        vertical-align: top;\n",
       "    }\n",
       "\n",
       "    .dataframe thead th {\n",
       "        text-align: right;\n",
       "    }\n",
       "</style>\n",
       "<table border=\"1\" class=\"dataframe\">\n",
       "  <thead>\n",
       "    <tr style=\"text-align: right;\">\n",
       "      <th></th>\n",
       "      <th>vlr_latitude</th>\n",
       "      <th>vlr_longitude</th>\n",
       "      <th>cod_munic</th>\n",
       "      <th>cod_cnes</th>\n",
       "    </tr>\n",
       "  </thead>\n",
       "  <tbody>\n",
       "    <tr>\n",
       "      <th>count</th>\n",
       "      <td>37690.000000</td>\n",
       "      <td>37690.000000</td>\n",
       "      <td>37690.000000</td>\n",
       "      <td>3.769000e+04</td>\n",
       "    </tr>\n",
       "    <tr>\n",
       "      <th>mean</th>\n",
       "      <td>-15.537453</td>\n",
       "      <td>-45.110433</td>\n",
       "      <td>314340.149615</td>\n",
       "      <td>3.120729e+06</td>\n",
       "    </tr>\n",
       "    <tr>\n",
       "      <th>std</th>\n",
       "      <td>8.427503</td>\n",
       "      <td>6.384263</td>\n",
       "      <td>93428.784933</td>\n",
       "      <td>1.500840e+06</td>\n",
       "    </tr>\n",
       "    <tr>\n",
       "      <th>min</th>\n",
       "      <td>-33.735023</td>\n",
       "      <td>-72.960098</td>\n",
       "      <td>110001.000000</td>\n",
       "      <td>1.080000e+02</td>\n",
       "    </tr>\n",
       "    <tr>\n",
       "      <th>25%</th>\n",
       "      <td>-22.725303</td>\n",
       "      <td>-49.353252</td>\n",
       "      <td>250572.500000</td>\n",
       "      <td>2.292798e+06</td>\n",
       "    </tr>\n",
       "    <tr>\n",
       "      <th>50%</th>\n",
       "      <td>-16.329637</td>\n",
       "      <td>-44.447222</td>\n",
       "      <td>312410.000000</td>\n",
       "      <td>2.554530e+06</td>\n",
       "    </tr>\n",
       "    <tr>\n",
       "      <th>75%</th>\n",
       "      <td>-7.586282</td>\n",
       "      <td>-40.156537</td>\n",
       "      <td>355030.000000</td>\n",
       "      <td>3.356335e+06</td>\n",
       "    </tr>\n",
       "    <tr>\n",
       "      <th>max</th>\n",
       "      <td>4.596000</td>\n",
       "      <td>-32.411000</td>\n",
       "      <td>530010.000000</td>\n",
       "      <td>8.016593e+06</td>\n",
       "    </tr>\n",
       "  </tbody>\n",
       "</table>\n",
       "</div>"
      ],
      "text/plain": [
       "       vlr_latitude  vlr_longitude      cod_munic      cod_cnes\n",
       "count  37690.000000   37690.000000   37690.000000  3.769000e+04\n",
       "mean     -15.537453     -45.110433  314340.149615  3.120729e+06\n",
       "std        8.427503       6.384263   93428.784933  1.500840e+06\n",
       "min      -33.735023     -72.960098  110001.000000  1.080000e+02\n",
       "25%      -22.725303     -49.353252  250572.500000  2.292798e+06\n",
       "50%      -16.329637     -44.447222  312410.000000  2.554530e+06\n",
       "75%       -7.586282     -40.156537  355030.000000  3.356335e+06\n",
       "max        4.596000     -32.411000  530010.000000  8.016593e+06"
      ]
     },
     "execution_count": 15,
     "metadata": {},
     "output_type": "execute_result"
    }
   ],
   "source": [
    "ubs.describe()"
   ]
  },
  {
   "cell_type": "code",
   "execution_count": 16,
   "metadata": {},
   "outputs": [
    {
     "data": {
      "text/plain": [
       "vlr_latitude                     0\n",
       "vlr_longitude                    0\n",
       "cod_munic                        0\n",
       "cod_cnes                         0\n",
       "nom_estab                        0\n",
       "dsc_endereco                     0\n",
       "dsc_bairro                     666\n",
       "dsc_cidade                       0\n",
       "dsc_telefone                     0\n",
       "dsc_estrut_fisic_ambiencia       0\n",
       "dsc_adap_defic_fisic_idosos      0\n",
       "dsc_equipamentos                 0\n",
       "dsc_medicamentos                 0\n",
       "dtype: int64"
      ]
     },
     "execution_count": 16,
     "metadata": {},
     "output_type": "execute_result"
    }
   ],
   "source": [
    "ubs.isnull().sum()"
   ]
  },
  {
   "cell_type": "code",
   "execution_count": 17,
   "metadata": {},
   "outputs": [
    {
     "data": {
      "text/plain": [
       "0"
      ]
     },
     "execution_count": 17,
     "metadata": {},
     "output_type": "execute_result"
    }
   ],
   "source": [
    "ubs.duplicated().sum()"
   ]
  },
  {
   "cell_type": "code",
   "execution_count": 18,
   "metadata": {},
   "outputs": [],
   "source": [
    "ubs.drop_duplicates(keep=False, inplace=True)"
   ]
  },
  {
   "cell_type": "code",
   "execution_count": null,
   "metadata": {},
   "outputs": [],
   "source": [
    "plt.figure(figsize = (8, 6))\n",
    "\n",
    "plt.hist()"
   ]
  }
 ],
 "metadata": {
  "kernelspec": {
   "display_name": "Python 3",
   "language": "python",
   "name": "python3"
  },
  "language_info": {
   "codemirror_mode": {
    "name": "ipython",
    "version": 3
   },
   "file_extension": ".py",
   "mimetype": "text/x-python",
   "name": "python",
   "nbconvert_exporter": "python",
   "pygments_lexer": "ipython3",
   "version": "3.7.5"
  }
 },
 "nbformat": 4,
 "nbformat_minor": 2
}
